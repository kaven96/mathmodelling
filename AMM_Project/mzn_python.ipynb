{
 "cells": [
  {
   "cell_type": "code",
   "execution_count": 11,
   "metadata": {},
   "outputs": [],
   "source": [
    "from minizinc import Instance, Model, Solver"
   ]
  },
  {
   "cell_type": "code",
   "execution_count": 13,
   "metadata": {},
   "outputs": [
    {
     "name": "stdout",
     "output_type": "stream",
     "text": [
      "The iminizinc extension is already loaded. To reload it, use:\n",
      "  %reload_ext iminizinc\n"
     ]
    }
   ],
   "source": [
    "%load_ext iminizinc"
   ]
  },
  {
   "cell_type": "code",
   "execution_count": 21,
   "metadata": {},
   "outputs": [
    {
     "name": "stderr",
     "output_type": "stream",
     "text": [
      "/usr/lib/python3.10/contextlib.py:539: RuntimeWarning: coroutine 'Instance.solve_async' was never awaited\n",
      "  def _fix_exception_context(new_exc, old_exc):\n",
      "RuntimeWarning: Enable tracemalloc to get the object allocation traceback\n"
     ]
    },
    {
     "ename": "TypeError",
     "evalue": "/usr/share/minizinc/std//nvalue_fn.mzn:7.57-67:\nMiniZinc: type error: no function or predicate with this signature found: `nvalue(var int,array[$_] of var int)'\nCannot use the following functions or predicates with the same identifier:\nfunction var int : nvalue(array[$_] of var int: x);\n    (requires 1 argument, but 2 given)\npredicate nvalue(var int: n,array[int] of var int: x);\n    (argument 2 expects type array[int] of var int, but type array[$_] of var int given)\nFile fragment:\n6: function var int: nvalue(array[$X] of var int: x) =\n7:   let { var 0..length(x): n::is_defined_var; constraint nvalue(n,x)::defines_var(n); } in n;\n                                                           ^^^^^^^^^^^\n",
     "output_type": "error",
     "traceback": [
      "\u001b[0;31m---------------------------------------------------------------------------\u001b[0m",
      "\u001b[0;31mTypeError\u001b[0m                                 Traceback (most recent call last)",
      "\u001b[0;32m/tmp/ipykernel_276/1070536024.py\u001b[0m in \u001b[0;36m<module>\u001b[0;34m\u001b[0m\n\u001b[1;32m      6\u001b[0m \u001b[0mgecode\u001b[0m \u001b[0;34m=\u001b[0m \u001b[0mSolver\u001b[0m\u001b[0;34m.\u001b[0m\u001b[0mlookup\u001b[0m\u001b[0;34m(\u001b[0m\u001b[0;34m\"gecode\"\u001b[0m\u001b[0;34m)\u001b[0m\u001b[0;34m\u001b[0m\u001b[0;34m\u001b[0m\u001b[0m\n\u001b[1;32m      7\u001b[0m \u001b[0;31m# Create an Instance of the n-Queens model for Gecode\u001b[0m\u001b[0;34m\u001b[0m\u001b[0;34m\u001b[0m\u001b[0m\n\u001b[0;32m----> 8\u001b[0;31m \u001b[0minstance\u001b[0m \u001b[0;34m=\u001b[0m \u001b[0mInstance\u001b[0m\u001b[0;34m(\u001b[0m\u001b[0mgecode\u001b[0m\u001b[0;34m,\u001b[0m \u001b[0mnqueens\u001b[0m\u001b[0;34m)\u001b[0m\u001b[0;34m\u001b[0m\u001b[0;34m\u001b[0m\u001b[0m\n\u001b[0m\u001b[1;32m      9\u001b[0m \u001b[0;31m# Assign 4 to n\u001b[0m\u001b[0;34m\u001b[0m\u001b[0;34m\u001b[0m\u001b[0m\n\u001b[1;32m     10\u001b[0m \u001b[0minstance\u001b[0m\u001b[0;34m[\u001b[0m\u001b[0;34m\"n\"\u001b[0m\u001b[0;34m]\u001b[0m \u001b[0;34m=\u001b[0m \u001b[0;36m4\u001b[0m\u001b[0;34m\u001b[0m\u001b[0;34m\u001b[0m\u001b[0m\n",
      "\u001b[0;32m~/.local/lib/python3.10/site-packages/minizinc/CLI/instance.py\u001b[0m in \u001b[0;36m__init__\u001b[0;34m(self, solver, model, driver)\u001b[0m\n\u001b[1;32m     84\u001b[0m             \u001b[0;31m# instances of the same model\u001b[0m\u001b[0;34m\u001b[0m\u001b[0;34m\u001b[0m\u001b[0m\n\u001b[1;32m     85\u001b[0m             \u001b[0;32mif\u001b[0m \u001b[0mself\u001b[0m\u001b[0;34m.\u001b[0m\u001b[0moutput_type\u001b[0m \u001b[0;32mis\u001b[0m \u001b[0;32mNone\u001b[0m\u001b[0;34m:\u001b[0m\u001b[0;34m\u001b[0m\u001b[0;34m\u001b[0m\u001b[0m\n\u001b[0;32m---> 86\u001b[0;31m                 \u001b[0mself\u001b[0m\u001b[0;34m.\u001b[0m\u001b[0manalyse\u001b[0m\u001b[0;34m(\u001b[0m\u001b[0;34m)\u001b[0m\u001b[0;34m\u001b[0m\u001b[0;34m\u001b[0m\u001b[0m\n\u001b[0m\u001b[1;32m     87\u001b[0m                 \u001b[0mmodel\u001b[0m\u001b[0;34m.\u001b[0m\u001b[0moutput_type\u001b[0m \u001b[0;34m=\u001b[0m \u001b[0mself\u001b[0m\u001b[0;34m.\u001b[0m\u001b[0moutput_type\u001b[0m\u001b[0;34m\u001b[0m\u001b[0;34m\u001b[0m\u001b[0m\n\u001b[1;32m     88\u001b[0m \u001b[0;34m\u001b[0m\u001b[0m\n",
      "\u001b[0;32m~/.local/lib/python3.10/site-packages/minizinc/CLI/instance.py\u001b[0m in \u001b[0;36manalyse\u001b[0;34m(self)\u001b[0m\n\u001b[1;32m    188\u001b[0m         \u001b[0;32mwith\u001b[0m \u001b[0mself\u001b[0m\u001b[0;34m.\u001b[0m\u001b[0mfiles\u001b[0m\u001b[0;34m(\u001b[0m\u001b[0;34m)\u001b[0m \u001b[0;32mas\u001b[0m \u001b[0mfiles\u001b[0m\u001b[0;34m:\u001b[0m\u001b[0;34m\u001b[0m\u001b[0;34m\u001b[0m\u001b[0m\n\u001b[1;32m    189\u001b[0m             \u001b[0;32massert\u001b[0m \u001b[0mlen\u001b[0m\u001b[0;34m(\u001b[0m\u001b[0mfiles\u001b[0m\u001b[0;34m)\u001b[0m \u001b[0;34m>\u001b[0m \u001b[0;36m0\u001b[0m\u001b[0;34m\u001b[0m\u001b[0;34m\u001b[0m\u001b[0m\n\u001b[0;32m--> 190\u001b[0;31m             \u001b[0moutput\u001b[0m \u001b[0;34m=\u001b[0m \u001b[0mself\u001b[0m\u001b[0;34m.\u001b[0m\u001b[0m_driver\u001b[0m\u001b[0;34m.\u001b[0m\u001b[0mrun\u001b[0m\u001b[0;34m(\u001b[0m\u001b[0;34m[\u001b[0m\u001b[0;34m\"--model-interface-only\"\u001b[0m\u001b[0;34m]\u001b[0m \u001b[0;34m+\u001b[0m \u001b[0mfiles\u001b[0m\u001b[0;34m,\u001b[0m \u001b[0mself\u001b[0m\u001b[0;34m.\u001b[0m\u001b[0m_solver\u001b[0m\u001b[0;34m)\u001b[0m\u001b[0;34m\u001b[0m\u001b[0;34m\u001b[0m\u001b[0m\n\u001b[0m\u001b[1;32m    191\u001b[0m         \u001b[0;32mif\u001b[0m \u001b[0mself\u001b[0m\u001b[0;34m.\u001b[0m\u001b[0m_driver\u001b[0m\u001b[0;34m.\u001b[0m\u001b[0mparsed_version\u001b[0m \u001b[0;34m>=\u001b[0m \u001b[0;34m(\u001b[0m\u001b[0;36m2\u001b[0m\u001b[0;34m,\u001b[0m \u001b[0;36m6\u001b[0m\u001b[0;34m,\u001b[0m \u001b[0;36m0\u001b[0m\u001b[0;34m)\u001b[0m\u001b[0;34m:\u001b[0m\u001b[0;34m\u001b[0m\u001b[0;34m\u001b[0m\u001b[0m\n\u001b[1;32m    192\u001b[0m             \u001b[0minterface\u001b[0m \u001b[0;34m=\u001b[0m \u001b[0;32mNone\u001b[0m\u001b[0;34m\u001b[0m\u001b[0;34m\u001b[0m\u001b[0m\n",
      "\u001b[0;32m~/.local/lib/python3.10/site-packages/minizinc/CLI/driver.py\u001b[0m in \u001b[0;36mrun\u001b[0;34m(self, args, solver)\u001b[0m\n\u001b[1;32m    170\u001b[0m                 \u001b[0;32mfor\u001b[0m \u001b[0m_\u001b[0m \u001b[0;32min\u001b[0m \u001b[0mdecode_json_stream\u001b[0m\u001b[0;34m(\u001b[0m\u001b[0moutput\u001b[0m\u001b[0;34m.\u001b[0m\u001b[0mstdout\u001b[0m\u001b[0;34m)\u001b[0m\u001b[0;34m:\u001b[0m\u001b[0;34m\u001b[0m\u001b[0;34m\u001b[0m\u001b[0m\n\u001b[1;32m    171\u001b[0m                     \u001b[0;32mpass\u001b[0m\u001b[0;34m\u001b[0m\u001b[0;34m\u001b[0m\u001b[0m\n\u001b[0;32m--> 172\u001b[0;31m             \u001b[0;32mraise\u001b[0m \u001b[0mparse_error\u001b[0m\u001b[0;34m(\u001b[0m\u001b[0moutput\u001b[0m\u001b[0;34m.\u001b[0m\u001b[0mstderr\u001b[0m\u001b[0;34m)\u001b[0m\u001b[0;34m\u001b[0m\u001b[0;34m\u001b[0m\u001b[0m\n\u001b[0m\u001b[1;32m    173\u001b[0m         \u001b[0;32mreturn\u001b[0m \u001b[0moutput\u001b[0m\u001b[0;34m\u001b[0m\u001b[0;34m\u001b[0m\u001b[0m\n\u001b[1;32m    174\u001b[0m \u001b[0;34m\u001b[0m\u001b[0m\n",
      "\u001b[0;31mTypeError\u001b[0m: /usr/share/minizinc/std//nvalue_fn.mzn:7.57-67:\nMiniZinc: type error: no function or predicate with this signature found: `nvalue(var int,array[$_] of var int)'\nCannot use the following functions or predicates with the same identifier:\nfunction var int : nvalue(array[$_] of var int: x);\n    (requires 1 argument, but 2 given)\npredicate nvalue(var int: n,array[int] of var int: x);\n    (argument 2 expects type array[int] of var int, but type array[$_] of var int given)\nFile fragment:\n6: function var int: nvalue(array[$X] of var int: x) =\n7:   let { var 0..length(x): n::is_defined_var; constraint nvalue(n,x)::defines_var(n); } in n;\n                                                           ^^^^^^^^^^^\n"
     ]
    }
   ],
   "source": [
    "from minizinc import Instance, Model, Solver\n",
    "\n",
    "# Load n-Queens model from file\n",
    "nqueens = Model(\"./adv_math_modelling_proj/resource 4.mzn\")\n",
    "# Find the MiniZinc solver configuration for Gecode\n",
    "gecode = Solver.lookup(\"gecode\")\n",
    "# Create an Instance of the n-Queens model for Gecode\n",
    "instance = Instance(gecode, nqueens)\n",
    "# Assign 4 to n\n",
    "instance[\"n\"] = 4\n",
    "result = instance.solve()\n",
    "# Output the array q\n",
    "print(result[\"q\"])"
   ]
  },
  {
   "cell_type": "code",
   "execution_count": 16,
   "metadata": {},
   "outputs": [
    {
     "data": {
      "text/plain": [
       "[{'q': [4, 2, 5, 3, 1]},\n",
       " {'q': [3, 5, 2, 4, 1]},\n",
       " {'q': [5, 3, 1, 4, 2]},\n",
       " {'q': [4, 1, 3, 5, 2]},\n",
       " {'q': [1, 4, 2, 5, 3]},\n",
       " {'q': [5, 2, 4, 1, 3]},\n",
       " {'q': [2, 5, 3, 1, 4]},\n",
       " {'q': [1, 3, 5, 2, 4]},\n",
       " {'q': [2, 4, 1, 3, 5]},\n",
       " {'q': [3, 1, 4, 2, 5]}]"
      ]
     },
     "execution_count": 16,
     "metadata": {},
     "output_type": "execute_result"
    }
   ],
   "source": [
    "%%minizinc -a\n",
    "\n",
    "int: n = 5; % The number of queens.\n",
    "\n",
    "array [1..n] of var 1..n: q;\n",
    "\n",
    "include \"alldifferent.mzn\";\n",
    "\n",
    "constraint alldifferent(q);\n",
    "constraint alldifferent(i in 1..n)(q[i] + i);\n",
    "constraint alldifferent(i in 1..n)(q[i] - i);"
   ]
  },
  {
   "cell_type": "code",
   "execution_count": 20,
   "metadata": {},
   "outputs": [
    {
     "name": "stdout",
     "output_type": "stream",
     "text": [
      "/usr/share/minizinc/std//nvalue_fn.mzn:7.57-67:\n",
      "MiniZinc: type error: no function or predicate with this signature found: `nvalue(var int,array[$_] of var int)'\n",
      "Cannot use the following functions or predicates with the same identifier:\n",
      "function var int : nvalue(array[$_] of var int: x);\n",
      "    (requires 1 argument, but 2 given)\n",
      "predicate nvalue(var int: n,array[int] of var int: x);\n",
      "    (argument 2 expects type array[int] of var int, but type array[$_] of var int given)\n"
     ]
    }
   ],
   "source": [
    "%%minizinc\n",
    "\n",
    "% Есть 15 изделий, имеющих срок службы и ресурс до кап. ремонта.\n",
    "% Дата изготовления изделий различается в пределах года.\n",
    "% Ремонт длится 1 год.\n",
    "% Можно превысить срок службы на два года, а ресурс на 200 часов.\n",
    "% Необходимо распределить даты отправки в ремонт так, чтобы в эксплуатации оставалось 5 (или максимум) единиц.\n",
    "\n",
    "include \"globals.mzn\";\n",
    "\n",
    "%%% Initial data\n",
    "\n",
    "int: res = 750;\n",
    "int: srok = 120;\n",
    "\n",
    "int: res_max = 1000;\n",
    "\n",
    "int: res_incr = 20; % operation time increment per month\n",
    "\n",
    "int: n = 15;\n",
    "set of int: dev = 1..n;\n",
    "\n",
    "array[dev] of int: op_time = [300, 250, 350, 450, 650, 670, 660, 220, 250, 670, 190, 560, 340, 370, 360]; % at the moment when 10 years expire\n",
    "\n",
    "array[dev] of int: prod_date = [11, 0, 14, 0, 0, 2, 2, 2, 4, 4, 4, 5, 9, 9, 14]; \n",
    "\n",
    "set of int: month = 120..164;\n",
    "\n",
    "\n",
    "%%% Declare variables\n",
    "\n",
    "var int: srok_max;\n",
    "\n",
    "array[dev] of var int: rem_time;\n",
    "\n",
    "var int: stay;\n",
    "\n",
    "array[dev] of var int: rem_date;\n",
    "\n",
    "array[dev] of var int: return_date;\n",
    "\n",
    "array[dev] of var int: rem_res;\n",
    "\n",
    "array[dev] of var int: res_penalty;\n",
    "\n",
    "array[dev] of var int: srok_penalty;\n",
    "\n",
    "var int: stay_penalty;\n",
    "\n",
    "var int: final_penalty;\n",
    "\n",
    "array[dev] of var int: rem_time_penalty;\n",
    "\n",
    "var int: fin_fin_penal;\n",
    "\n",
    "array[month] of var int: staying;\n",
    "\n",
    "\n",
    "\n",
    "%%% Declare weights of change\n",
    "\n",
    "int: res_incr_price = 1; % per 1 h of res increase\n",
    "int: rem_time_decr = 2000; % per 1 month of repair of time decrease\n",
    "int: srok_max_incr = 200; % per 1 month of expl time incr\n",
    "int: stay_decr = 4000; % per 1 machine staying decrease\n",
    "int: res_unused = 3; % penalty for unused 1h of op_time\n",
    "\n",
    "\n",
    "\n",
    "%%% Constraints\n",
    "\n",
    "constraint\n",
    "srok_max >= 144 /\\ srok_max <= 152;\n",
    "\n",
    "constraint\n",
    "forall(i in dev)(rem_time[i] <= 14 /\\ rem_time[i] >= 10);\n",
    "\n",
    "constraint\n",
    "stay >= 4 /\\ stay <= n;\n",
    "\n",
    "constraint\n",
    "forall(i in dev)(rem_date[i] <= srok_max + prod_date[i] /\\ rem_date[i] >= srok  + prod_date[i] - 3);\n",
    "\n",
    "constraint\n",
    "forall(i in rem_date, j in op_time)((i - srok)*res_incr + j <= res_max);\n",
    "\n",
    "constraint\n",
    "forall(i in dev)(return_date[i] = rem_date[i] + rem_time[i]);\n",
    "\n",
    "\n",
    "% constraint\n",
    "% forall(i in index_set(month))(staying[i] = card({j | j in dev where month[i] <= rem_date[j] \\/ month[i] >= return_date[j]}));\n",
    "\n",
    "% constraint\n",
    "% forall(i in index_set(month))(staying[i] >= stay);\n",
    "\n",
    "% constraint\n",
    "% forall(i in month)(card({j | j in dev where i <= rem_date[j] \\/ i >= return_date[j]}) >= stay);\n",
    "\n",
    "constraint\n",
    "forall(i in month)(staying[i] = card({j | j in index_set(rem_date) where i < rem_date[j] \\/ i > rem_date[j] + rem_time[j]}));\n",
    "\n",
    "constraint\n",
    "forall(i in month)(staying[i] >= stay);\n",
    "\n",
    "constraint\n",
    "forall(i in dev)(rem_res[i] = op_time[i] + (rem_date[i] - srok)*res_incr);\n",
    "\n",
    "constraint\n",
    "forall(i in dev)(if rem_date[i] >= prod_date[i] + srok then srok_penalty[i] = (rem_date[i]-prod_date[i] - srok)*srok_max_incr else srok_penalty[i] = 0 endif);\n",
    "\n",
    "constraint\n",
    "forall(i in dev)(if rem_res[i] >= 750 then res_penalty[i] = (rem_res[i]-res)*res_incr_price else res_penalty[i] = (res - rem_res[i])*res_unused endif);\n",
    "\n",
    "% constraint\n",
    "% if stay < 5 then stay_penalty = (5 - stay)*stay_decr else stay_penalty = 0 endif;\n",
    "\n",
    "constraint\n",
    "stay_penalty = card({i | i in month where staying[i] < 5}) * stay_decr;\n",
    "\n",
    "\n",
    "% constraint\n",
    "% forall(i in dev)(if rem_time[i] < 12 then rem_time_penalty[i] = rem_time_decr * (12-rem_time[i]) else rem_time_penalty[i] = 0 endif);\n",
    "\n",
    "constraint\n",
    "forall(i in dev)(if rem_time[i] < 12 then rem_time_penalty[i] = (12 - rem_time[i])*rem_time_decr else rem_time_penalty[i] = 0 endif);\n",
    "\n",
    "constraint\n",
    "final_penalty = sum(i in dev)(srok_penalty[i]+res_penalty[i]+rem_time_penalty[i]);\n",
    "\n",
    "\n",
    "constraint\n",
    "fin_fin_penal = final_penalty + stay_penalty;\n",
    "\n",
    "\n",
    "\n",
    "%%% Solve\n",
    "\n",
    "solve\n",
    "%   :: warm_start_array( [                     %%% Can be on the upper level\n",
    "%      warm_start( rem_date, [132,120,133,120,120,122,122,122,129,128,136,129,131,131,133] ),               %%% Use <> for missing values\n",
    "%      warm_start( rem_time, [8,8,8,8,8,8,8,8,8,8,8,8,8,8,8] ),\n",
    "% %      warm_start( stay, 3 ),\n",
    "%                         ])\n",
    "%    :: int_search(rem_date, dom_w_deg, indomain_median)\n",
    "    minimize fin_fin_penal;\n",
    "\n",
    "\n",
    "%%% Output config \n",
    "\n",
    "% output [\n",
    "%   show(fix(fin_fin_penal))] ++ [show(fix(rem_date))] ++ [show(fix(rem_time))] ++ [\n",
    "\n",
    "%   if j >= fix(rem_date[i]) /\\ j <= fix(return_date[i]) then \"#\" else \"|\" endif \n",
    "%   | i in dev, j in month\n",
    "\n",
    "% ] ++ [\"\\n\"]\n",
    "\n",
    "  "
   ]
  }
 ],
 "metadata": {
  "kernelspec": {
   "display_name": "Python 3.8.10 64-bit",
   "language": "python",
   "name": "python3"
  },
  "language_info": {
   "codemirror_mode": {
    "name": "ipython",
    "version": 3
   },
   "file_extension": ".py",
   "mimetype": "text/x-python",
   "name": "python",
   "nbconvert_exporter": "python",
   "pygments_lexer": "ipython3",
   "version": "3.10.4"
  },
  "orig_nbformat": 4,
  "vscode": {
   "interpreter": {
    "hash": "916dbcbb3f70747c44a77c7bcd40155683ae19c65e1c03b4aa3499c5328201f1"
   }
  }
 },
 "nbformat": 4,
 "nbformat_minor": 2
}
