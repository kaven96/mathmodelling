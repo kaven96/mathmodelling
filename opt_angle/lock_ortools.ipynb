{
 "cells": [
  {
   "cell_type": "markdown",
   "metadata": {},
   "source": [
    "Импорт библиотек:"
   ]
  },
  {
   "cell_type": "code",
   "execution_count": 6,
   "metadata": {},
   "outputs": [],
   "source": [
    "# ortools and solver\n",
    "from ortools.linear_solver import pywraplp\n",
    "from ortools.init import pywrapinit\n",
    "from ortools.sat.python import cp_model\n",
    "\n",
    "# math\n",
    "import numpy as np\n",
    "from numpy import sin, cos, tan"
   ]
  },
  {
   "cell_type": "markdown",
   "metadata": {},
   "source": [
    "Задание основных функций"
   ]
  },
  {
   "cell_type": "code",
   "execution_count": 4,
   "metadata": {},
   "outputs": [],
   "source": [
    "# Coefficients for stresses calculations\n",
    "\n",
    "# Buckling coefficient\n",
    "def K_sm(gamma, beta, phi):\n",
    "    psi = beta - (np.radians(90) - phi/2)\n",
    "    m1 = (2 * sin(beta - gamma) / sin(gamma) - 0.7 * tan(1 / (gamma / 2)) - 0.05 / cos(psi))*cos(psi)\n",
    "    return 1 / m1\n",
    "\n",
    "\n",
    "# Bending coefficient\n",
    "def K_iz(gamma, beta, phi):\n",
    "    psi = beta - (np.radians(90) - phi/2)\n",
    "    m1 = (2 * sin(beta - gamma) / sin(gamma) - 0.7 * tan(1 / (gamma / 2)) - 0.05 / cos(psi))*cos(psi)\n",
    "    m4 = (2 * sin(beta - gamma) / sin(gamma) - 0.35 * tan(1 / (gamma / 2)) + 0.35 * tan(1 / (beta / 2))) * sin(gamma) / sin(beta - gamma)\n",
    "    m5 = m1 / 2 / cos(psi) + 0.35 * tan(1 / (beta / 2)) - m4 / 2 * sin(beta - 90) + 0.05 / cos(psi)\n",
    "    return 6 * m5 / m4**2 / cos(psi)\n",
    "\n",
    "\n",
    "# Cut coefficient\n",
    "def K_sr(gamma, beta, phi):\n",
    "    psi = beta - (np.radians(90) - phi/2)\n",
    "    m3 = (2 * sin(beta - gamma) / sin(gamma) - 0.35 * tan(1 / (gamma / 2)) - 0.05 / cos(psi))*sin(gamma) / sin(beta - gamma + phi / 2)\n",
    "    return 1 / m3\n",
    "\n",
    "# Fillet radius as function of S (joint step)\n",
    "def r_func(S):\n",
    "    return 0.1737 * S - 0.0146 # magic constants are taken by approximation of values from industry standard\n",
    "\n",
    "# Fastener height\n",
    "def h_f(z, S, phi): # z -- number of teeth pairs; phi in radians\n",
    "    return cos(phi / 2) * S * (z - 0.5)\n",
    "\n",
    "\n",
    "# This function is to find profile width (l_l) of the upper and bottom parts of fastener \n",
    "def l_l_first_last(z, S, r, gamma, beta, phi): # z -- number of teeth pairs\n",
    "    l_d1 = S - 2 * (r / sin(gamma / 2) * cos(gamma / 2 - beta + np.radians(90) - phi / 2) - r) + \\\n",
    "        S * sin(beta - gamma) / sin(gamma) * cos(beta - np.radians(90) + phi / 2) + 8 * sin(phi / 2)\n",
    "    double_delta = 0.05 * S\n",
    "    l_l1 = l_d1 - double_delta\n",
    "    \n",
    "    l_last = l_l1 - 2 * sin(phi / 2) * S * (z - 0.5)\n",
    "    return [l_l1, l_last]\n",
    "\n",
    "\n",
    "# Fir-tree joint approximate volume\n",
    "def vol_f(l_u, l_b, h, b): # _u -- upper section; _b -- bottom section; \n",
    "    S = (l_u + l_b) / 2 * h\n",
    "    V = S * b\n",
    "    R_cm = h / 3 * (2 * l_u +l_b) / (l_b + l_u) # http://ru.solverbook.com/question/centr-tyazhesti-trapecii/\n",
    "    return  [V, R_cm]\n",
    "\n",
    "\n",
    "# Centrifugal force of blade \n",
    "def P_j(vol_u, vol_f, dens, n, R_u, R_f):    # vol_u -- volume of blade above fastener upper section; \n",
    "    vol = vol_u + vol_f                      # vol_f -- volume of fastener; dens -- material density; \n",
    "    omega = 2 * np.pi * n / 60               # n = rot. speed [rpm]; R_u --  upper blade part center of mass radius;\n",
    "    dist = R_u - R_f                         # R_f -- fastener center of mass radius\n",
    "    R = R_f + dist / (1 + vol_f / vol_u)     # dist -- distance between center of masses of blade and fastener\n",
    "    return vol * dens * omega**2 * R         # R -- the whole blade center of mass\n",
    "\n",
    "\n",
    "# OST parameter defining width (?)\n",
    "def l_h(l_l1, S, r, gamma, beta, phi):\n",
    "    l_h = l_l1 - 2 * (S * sin(beta - gamma) / 2 / sin(gamma) - r / tan(gamma/2)) * \\\n",
    "            cos(beta + phi/2 - np.radians(90)) + 4 * r * sin(beta + phi/2 - np.radians(90)) - 4 * r\n",
    "    return l_h"
   ]
  },
  {
   "cell_type": "markdown",
   "metadata": {},
   "source": [
    "Введем переменные"
   ]
  },
  {
   "cell_type": "code",
   "execution_count": 7,
   "metadata": {},
   "outputs": [],
   "source": [
    "model = cp_model.CpModel()"
   ]
  }
 ],
 "metadata": {
  "interpreter": {
   "hash": "916dbcbb3f70747c44a77c7bcd40155683ae19c65e1c03b4aa3499c5328201f1"
  },
  "kernelspec": {
   "display_name": "Python 3.10.4 64-bit",
   "language": "python",
   "name": "python3"
  },
  "language_info": {
   "codemirror_mode": {
    "name": "ipython",
    "version": 3
   },
   "file_extension": ".py",
   "mimetype": "text/x-python",
   "name": "python",
   "nbconvert_exporter": "python",
   "pygments_lexer": "ipython3",
   "version": "3.10.4"
  },
  "orig_nbformat": 4
 },
 "nbformat": 4,
 "nbformat_minor": 2
}
