{
 "cells": [
  {
   "cell_type": "code",
   "execution_count": 28,
   "metadata": {},
   "outputs": [
    {
     "name": "stdout",
     "output_type": "stream",
     "text": [
      "272798.7\n"
     ]
    }
   ],
   "source": [
    "x = input()\n",
    "\n",
    "def rounding(x):\n",
    "    x = float(x)\n",
    "    x_celoe = int(x)\n",
    "    x_drob = int(1000*(x - x_celoe))\n",
    "    if int(str(x_drob)[-1]) >=5:\n",
    "        x_drob = x_drob+10\n",
    "    return (x_celoe + int(x_drob/10)/100)\n",
    "\n",
    "def vol(x):\n",
    "    x = float(x)\n",
    "    return rounding(4/3 * 3.14 * x**3)\n",
    "\n",
    "print(vol(x))"
   ]
  },
  {
   "cell_type": "code",
   "execution_count": 14,
   "metadata": {},
   "outputs": [
    {
     "data": {
      "text/plain": [
       "7.666666666666667"
      ]
     },
     "execution_count": 14,
     "metadata": {},
     "output_type": "execute_result"
    }
   ],
   "source": [
    "23/3"
   ]
  },
  {
   "cell_type": "code",
   "execution_count": 13,
   "metadata": {},
   "outputs": [
    {
     "data": {
      "text/plain": [
       "7"
      ]
     },
     "execution_count": 13,
     "metadata": {},
     "output_type": "execute_result"
    }
   ],
   "source": [
    "23//3"
   ]
  },
  {
   "cell_type": "code",
   "execution_count": 17,
   "metadata": {},
   "outputs": [
    {
     "data": {
      "text/plain": [
       "66.6666666666667"
      ]
     },
     "execution_count": 17,
     "metadata": {},
     "output_type": "execute_result"
    }
   ],
   "source": [
    "100*(7.666666666666667-int(7.666666666666667))"
   ]
  },
  {
   "cell_type": "code",
   "execution_count": 22,
   "metadata": {},
   "outputs": [
    {
     "data": {
      "text/plain": [
       "272798.7027831467"
      ]
     },
     "execution_count": 22,
     "metadata": {},
     "output_type": "execute_result"
    }
   ],
   "source": [
    "4/3 * 3.14 * 40.24**3"
   ]
  },
  {
   "cell_type": "code",
   "execution_count": 27,
   "metadata": {},
   "outputs": [
    {
     "data": {
      "text/plain": [
       "702.7831466984935"
      ]
     },
     "execution_count": 27,
     "metadata": {},
     "output_type": "execute_result"
    }
   ],
   "source": [
    "1000 * (272798.7027831467 - int(272798.7027831467))"
   ]
  },
  {
   "cell_type": "code",
   "execution_count": 25,
   "metadata": {},
   "outputs": [
    {
     "data": {
      "text/plain": [
       "272798.71"
      ]
     },
     "execution_count": 25,
     "metadata": {},
     "output_type": "execute_result"
    }
   ],
   "source": [
    "rounding(272798.7027831467)"
   ]
  },
  {
   "cell_type": "code",
   "execution_count": null,
   "metadata": {},
   "outputs": [],
   "source": [
    "x = input()\n",
    "\n",
    "def rounding(x):\n",
    "    x = float(x)\n",
    "    x_celoe = int(x)\n",
    "    x_drob = int(1000*(x - x_celoe))\n",
    "    if int(str(x_drob)[-1]) >=5:\n",
    "        x_drob = x_drob+10\n",
    "    return (x_celoe + int(x_drob/10)/100)\n",
    "\n",
    "def vol(x):\n",
    "    x = float(x)\n",
    "    return rounding(4/3 * 3.14 * x**3)\n",
    "\n",
    "def toFixed(numObj, digits=0):\n",
    "    return f\"{numObj:.{digits}f}\"\n",
    "\n",
    "print(toFixed(vol(x), 2))"
   ]
  },
  {
   "cell_type": "code",
   "execution_count": 38,
   "metadata": {},
   "outputs": [
    {
     "name": "stdout",
     "output_type": "stream",
     "text": [
      "13.60\n"
     ]
    }
   ],
   "source": [
    "t1 = input()\n",
    "t2 = input()\n",
    "t3 = input()\n",
    "\n",
    "def rounding(x):\n",
    "    x = float(x)\n",
    "    x_celoe = int(x)\n",
    "    x_drob = int(1000*(x - x_celoe))\n",
    "    if int(str(x_drob)[-1]) >=5:\n",
    "        x_drob = x_drob+10\n",
    "    return (x_celoe + int(x_drob/10)/100)\n",
    "\n",
    "def dist(t1, t2, t3):\n",
    "    t1_coords = list(map(int, t1.split()))\n",
    "    t2_coords = list(map(int, t2.split()))\n",
    "    t3_coords = list(map(int, t3.split()))\n",
    "\n",
    "    dist12 = ((t1_coords[0] - t2_coords[0])**2 + (t1_coords[1] - t2_coords[1])**2)**0.5\n",
    "    dist13 = ((t1_coords[0] - t3_coords[0])**2 + (t1_coords[1] - t3_coords[1])**2)**0.5\n",
    "    dist23 = ((t2_coords[0] - t3_coords[0])**2 + (t2_coords[1] - t3_coords[1])**2)**0.5\n",
    "\n",
    "    return rounding(min(dist12, dist13, dist23))\n",
    "\n",
    "def toFixed(numObj, digits=0):\n",
    "    return f\"{numObj:.{digits}f}\"\n",
    "\n",
    "print(toFixed(dist(t1,t2,t3),2))"
   ]
  },
  {
   "cell_type": "code",
   "execution_count": 49,
   "metadata": {},
   "outputs": [
    {
     "name": "stdout",
     "output_type": "stream",
     "text": [
      "[1, 2, 0, 0, 16, 32, 0, 0, 0, 0, 0, 2048, 0, 0, 0, 32768, 65536, 0, 262144, 0, 1048576, 0, 4194304, 8388608, 16777216, 0, 67108864, 0, 0, 0, 0, 2147483648]\n",
      "2245363763\n"
     ]
    }
   ],
   "source": [
    "x = input()\n",
    "\n",
    "digits = []\n",
    "idx = 0\n",
    "\n",
    "\n",
    "for i in reversed(x):\n",
    "    if int(i) == 1:\n",
    "        digits.append(2**idx)\n",
    "    if int(i) == 0:\n",
    "        digits.append(0)\n",
    "    idx += 1\n",
    "\n",
    "print(digits)\n",
    "print(sum(digits))"
   ]
  },
  {
   "cell_type": "code",
   "execution_count": 90,
   "metadata": {},
   "outputs": [
    {
     "name": "stdout",
     "output_type": "stream",
     "text": [
      "903/20\n"
     ]
    }
   ],
   "source": [
    "x = input()\n",
    "\n",
    "def gcd(a, b):\n",
    "    while a != b:\n",
    "        if a > b:\n",
    "            a = a - b\n",
    "        else:\n",
    "            b = b - a        \n",
    "    return a\n",
    "\n",
    "def to_drob(x):\n",
    "    xspl = x.split(sep='.')\n",
    "\n",
    "    celoe = xspl[0]\n",
    "    up = int(xspl[1])\n",
    "    bot = 10**len(xspl[1])\n",
    "\n",
    "    if int(xspl[1]) == 0:\n",
    "        return (int(celoe))\n",
    "\n",
    "    else: \n",
    "        return (f\"{int(up/gcd(up, bot) + int(celoe)*bot/gcd(up, bot))}/{int(bot/gcd(up, bot))}\")\n",
    "\n",
    "\n",
    "\n",
    "print(to_drob(x))\n",
    "\n"
   ]
  },
  {
   "cell_type": "code",
   "execution_count": 68,
   "metadata": {},
   "outputs": [
    {
     "data": {
      "text/plain": [
       "200000"
      ]
     },
     "execution_count": 68,
     "metadata": {},
     "output_type": "execute_result"
    }
   ],
   "source": [
    "gcd(up_times, bot_times)"
   ]
  },
  {
   "cell_type": "code",
   "execution_count": 113,
   "metadata": {},
   "outputs": [
    {
     "name": "stdout",
     "output_type": "stream",
     "text": [
      "false\n"
     ]
    }
   ],
   "source": [
    "x = input()\n",
    "\n",
    "def chechip(x):\n",
    "    allowed_list = ['0', '1', '2', '3', '4', '5', '6', '7', '8', '9', 'A', 'B', 'C', 'D', 'E', 'F', 'a', 'b', 'c', 'd', 'e', 'f', '']\n",
    "    xspl = x.split(sep=':')\n",
    "\n",
    "    checlist = []\n",
    "\n",
    "    if len(xspl) == 8 or '::' in x:\n",
    "        for block in xspl:\n",
    "            for i in block:\n",
    "                if i not in allowed_list:\n",
    "                    checlist.append(False)\n",
    "                else:\n",
    "                    checlist.append(True)\n",
    "\n",
    "        if all(checlist):\n",
    "            return 'true'\n",
    "        else:\n",
    "            return 'false'\n",
    "    else:\n",
    "        return 'false'\n",
    "\n",
    "print(chechip(x))"
   ]
  }
 ],
 "metadata": {
  "kernelspec": {
   "display_name": "Python 3.8.10 64-bit",
   "language": "python",
   "name": "python3"
  },
  "language_info": {
   "codemirror_mode": {
    "name": "ipython",
    "version": 3
   },
   "file_extension": ".py",
   "mimetype": "text/x-python",
   "name": "python",
   "nbconvert_exporter": "python",
   "pygments_lexer": "ipython3",
   "version": "3.8.10"
  },
  "orig_nbformat": 4,
  "vscode": {
   "interpreter": {
    "hash": "916dbcbb3f70747c44a77c7bcd40155683ae19c65e1c03b4aa3499c5328201f1"
   }
  }
 },
 "nbformat": 4,
 "nbformat_minor": 2
}
