{
 "cells": [
  {
   "cell_type": "markdown",
   "metadata": {},
   "source": [
    "# Задача"
   ]
  },
  {
   "cell_type": "markdown",
   "metadata": {},
   "source": [
    "Необходимо подобрать оптимальную геометрию замкового соединения лопатки турбины ГТД с диском.\n",
    "\n",
    "В качестве исходных данных:\n",
    "1. Объем лопатки \"над\" хвостовиком;\n",
    "2. Плотность материала лопатки;\n",
    "3. Центр тяжести лопатки без хвостовика;\n",
    "4. Частота вращения ротора;\n",
    "5. Ширина паза у верхнего зуба (исходя из геометрии лопатки);\n",
    "6. Предельные значения напряжений в лопатке."
   ]
  },
  {
   "cell_type": "markdown",
   "metadata": {},
   "source": [
    "Как замковое соединение выглядит \"в железе\":\n",
    "\n",
    "![Внешний вид замкового соединения, для общего представления](./Disk.jpg)"
   ]
  },
  {
   "cell_type": "markdown",
   "metadata": {},
   "source": [
    "Схематичное изображение: \n",
    "\n",
    "![Внешний вид замкового соединения, для общего представления](./image047.png)"
   ]
  },
  {
   "cell_type": "markdown",
   "metadata": {},
   "source": [
    "Обозначения геометрических параметров соединения:\n",
    "\n",
    "![Геометрия замкового соединения](./geom.png)"
   ]
  },
  {
   "cell_type": "markdown",
   "metadata": {},
   "source": [
    "# Основные формулы в виде функций"
   ]
  },
  {
   "cell_type": "code",
   "execution_count": 1,
   "metadata": {},
   "outputs": [],
   "source": [
    "# Import necessary modules\n",
    "\n",
    "import numpy as np\n",
    "from numpy import sin, cos, tan\n",
    "from scipy.optimize import NonlinearConstraint, Bounds, minimize, BFGS, SR1"
   ]
  },
  {
   "cell_type": "code",
   "execution_count": 3,
   "metadata": {},
   "outputs": [],
   "source": [
    "# Coefficients for stresses calculations\n",
    "\n",
    "# Buckling coefficient\n",
    "def K_sm(x):\n",
    "    gamma = x[0]\n",
    "    beta = x[1]\n",
    "    phi = x[2]\n",
    "    psi = beta - (np.radians(90) - phi/2)\n",
    "    m1 = (2 * sin(beta - gamma) / sin(gamma) - 0.7 * tan(1 / (gamma / 2)) - 0.05 / cos(psi))*cos(psi)\n",
    "    return 1 / m1\n",
    "\n",
    "\n",
    "# Bending coefficient\n",
    "def K_iz(x):\n",
    "    gamma = x[0]\n",
    "    beta = x[1]\n",
    "    phi = x[2]\n",
    "    psi = beta - (np.radians(90) - phi/2)\n",
    "    m1 = (2 * sin(beta - gamma) / sin(gamma) - 0.7 * tan(1 / (gamma / 2)) - 0.05 / cos(psi))*cos(psi)\n",
    "    m4 = (2 * sin(beta - gamma) / sin(gamma) - 0.35 * tan(1 / (gamma / 2)) + 0.35 * tan(1 / (beta / 2))) * sin(gamma) / sin(beta - gamma)\n",
    "    m5 = m1 / 2 / cos(psi) + 0.35 * tan(1 / (beta / 2)) - m4 / 2 * sin(beta - 90) + 0.05 / cos(psi)\n",
    "    return 6 * m5 / m4**2 / cos(psi)\n",
    "\n",
    "\n",
    "# Cut coefficient\n",
    "def K_sr(x):\n",
    "    gamma = x[0]\n",
    "    beta = x[1]\n",
    "    phi = x[2]\n",
    "    psi = beta - (np.radians(90) - phi/2)\n",
    "    m3 = (2 * sin(beta - gamma) / sin(gamma) - 0.35 * tan(1 / (gamma / 2)) - 0.05 / cos(psi))*sin(gamma) / sin(beta - gamma + phi / 2)\n",
    "    return 1 / m3\n",
    "\n",
    "# Fillet radius as function of S (joint step)\n",
    "def r_func(S):\n",
    "    return 0.1737 * S - 0.0146 # magic constants are taken by approximation of values from industry standard\n",
    "\n",
    "# Fastener height\n",
    "def h_f(z, S, phi): # z -- number of teeth pairs; phi in radians\n",
    "    return cos(phi / 2) * S * (z - 0.5)\n",
    "\n",
    "\n",
    "# This function is to find profile width (l_l) of the upper and bottom parts of fastener \n",
    "def l_l_first_last(z, S, r, gamma, beta, phi): # z -- number of teeth pairs\n",
    "    l_d1 = S - 2 * (r / sin(gamma / 2) * cos(gamma / 2 - beta + np.radians(90) - phi / 2) - r) + \\\n",
    "        S * sin(beta - gamma) / sin(gamma) * cos(beta - np.radians(90) + phi / 2) + 8 * sin(phi / 2)\n",
    "    double_delta = 0.05 * S\n",
    "    l_l1 = l_d1 - double_delta\n",
    "    \n",
    "    l_last = l_l1 - 2 * sin(phi / 2) * S * (z - 0.5)\n",
    "    return [l_l1, l_last]\n",
    "\n",
    "\n",
    "# Fir-tree joint approximate volume\n",
    "def vol_f(l_u, l_b, h, b): # _u -- upper section; _b -- bottom section; \n",
    "    S = (l_u + l_b) / 2 * h\n",
    "    V = S * b\n",
    "    R_cm = h / 3 * (2 * l_u +l_b) / (l_b + l_u) # http://ru.solverbook.com/question/centr-tyazhesti-trapecii/\n",
    "    return  [V, R_cm]\n",
    "\n",
    "\n",
    "def P_j(vol_u, vol_f, dens, n, R_u, R_f):    # vol_u -- volume of blade above fastener upper section; \n",
    "    vol = vol_u + vol_f                      # vol_f -- volume of fastener; dens -- material density; \n",
    "    omega = 2 * np.pi * n / 60               # n = rot. speed [rpm]; R_u --  upper blade part center of mass radius;\n",
    "    dist = R_u - R_f                         # R_f -- fastener center of mass radius\n",
    "    R = R_f + dist / (1 + vol_f / vol_u)     # dist -- distance between center of masses of blade and fastener\n",
    "    return vol * dens * omega**2 * R         # R -- the whole blade center of mass\n",
    "\n",
    "\n",
    "def l_h(l_l1, S, r, gamma, beta, phi):\n",
    "    l_h = l_l1 - 2 * (S * sin(beta - gamma) / 2 / sin(gamma) - r / tan(gamma/2)) * \\\n",
    "            cos(beta + phi/2 - np.radians(90)) + 4 * r * sin(beta + phi/2 - np.radians(90)) - 4 * r\n",
    "    return l_h"
   ]
  },
  {
   "cell_type": "code",
   "execution_count": 4,
   "metadata": {},
   "outputs": [],
   "source": [
    "# Given values\n",
    "\n",
    "# Blade center of mass without tail\n",
    "blade_Rcm = 167.89 #mm\n",
    "\n",
    "# Blade volume without tail\n",
    "blade_vol = 3394.4957 # mm3\n",
    "\n",
    "# Blade material density\n",
    "mat_density = 8760 # kg / m3\n",
    "\n",
    "# Rotation speed\n",
    "n = 19200 # rpm\n",
    "\n",
    "# Blade width \n",
    "l_d = 8.15 # mm\n",
    "\n",
    "# Acceptable stresses\n",
    "sigma_sm_dop =  230 # MPa \n",
    "sigma_iz_dop = 200\n",
    "tau_sr_dop = 120\n",
    "\n",
    "# Length of blade\n",
    "b = 30 # mm\n",
    "\n",
    "# Number of teeth (2...5)\n",
    "z = 3"
   ]
  },
  {
   "cell_type": "code",
   "execution_count": 5,
   "metadata": {},
   "outputs": [],
   "source": [
    "# Bounds for optimization values\n",
    "\n",
    "# gamma, beta, phi, S\n",
    "bounds = Bounds([np.radians(55), np.radians(105), np.radians(30), 1.8], [np.radians(65), np.radians(120), np.radians(50), 6.0])"
   ]
  },
  {
   "cell_type": "code",
   "execution_count": 3,
   "metadata": {},
   "outputs": [
    {
     "data": {
      "text/plain": [
       "1.1344640137963142"
      ]
     },
     "execution_count": 3,
     "metadata": {},
     "output_type": "execute_result"
    }
   ],
   "source": [
    "np.radians(65)"
   ]
  },
  {
   "cell_type": "code",
   "execution_count": 6,
   "metadata": {},
   "outputs": [],
   "source": [
    "# Nonlinear constraints for optimizing function\n",
    "\n",
    "def cons_func(x):\n",
    "    gamma = x[0]\n",
    "    beta = x[1]\n",
    "    phi = x[2]\n",
    "    S = x[3]\n",
    "    psi = beta - (np.radians(90) - phi/2)\n",
    " \n",
    "    l_upper = l_l_first_last(z, S, r_func(S), gamma, beta, phi)[0]\n",
    "    l_lower = l_l_first_last(z, S, r_func(S), gamma, beta, phi)[1]\n",
    "    fast_height = h_f(z, S, phi)\n",
    "    fast_vol = vol_f(l_upper, l_lower, fast_height, b)\n",
    "    CFF = P_j(blade_vol * 10**(-9), fast_vol[0] * 10**(-9), mat_density, n, blade_Rcm * 10**(-3), fast_vol[1] * 10**(-3)) / z / 2 # centrifugal force from the whole blade per 1 tooth\n",
    "\n",
    "    m1 = (2 * sin(beta - gamma) / sin(gamma) - 0.7 * tan(gamma / 2)**(-1) - 0.05 / cos(psi))*cos(psi)\n",
    "    m3 = (2 * sin(beta - gamma) / sin(gamma) - 0.35 * tan(gamma / 2)**(-1) - 0.05 / cos(psi))*sin(gamma) / sin(beta - gamma + phi / 2)\n",
    "    m4 = (2 * sin(beta - gamma) / sin(gamma) - 0.35 * tan(1 / (gamma / 2)) + 0.35 * tan(1 / (beta / 2))) * sin(gamma) / sin(beta - gamma)\n",
    "    m5 = m1 / 2 / cos(psi) + 0.35 * tan(beta / 2)**(-1) - m4 / 2 * sin(beta - 90) + 0.05 / cos(psi)\n",
    "    sigma_sm = 1 / m1 * CFF / b / S * 2\n",
    "    sigma_iz = 6 * m5 / m4**2 / cos(psi) * CFF / b / S * 2\n",
    "    sigma_sr = 1 / m3 * CFF / b / S * 2\n",
    "    return [sigma_sm, sigma_iz, sigma_sr]"
   ]
  },
  {
   "cell_type": "code",
   "execution_count": 7,
   "metadata": {},
   "outputs": [],
   "source": [
    "nonlinear_constraint = NonlinearConstraint(cons_func, 0, [sigma_sm_dop, sigma_iz_dop, tau_sr_dop], jac = '2-point', hess = BFGS())"
   ]
  },
  {
   "cell_type": "code",
   "execution_count": 8,
   "metadata": {},
   "outputs": [
    {
     "name": "stdout",
     "output_type": "stream",
     "text": [
      "`gtol` termination condition is satisfied.\n",
      "Number of iterations: 124, function evaluations: 755, CG iterations: 138, optimality: 3.60e-10, constraint violation: 0.00e+00, execution time: 0.74 s.\n"
     ]
    }
   ],
   "source": [
    "# Optimize\n",
    "\n",
    "def optim_func(x):\n",
    "    gamma = x[0]\n",
    "    beta = x[1]\n",
    "    phi = x[2]\n",
    "    S = x[3]\n",
    " \n",
    "    l_upper = l_l_first_last(z, S, r_func(S), gamma, beta, phi)[0]\n",
    "    l_lower = l_l_first_last(z, S, r_func(S), gamma, beta, phi)[1]\n",
    "    fast_height = h_f(z, S, phi)\n",
    "    fast_vol = vol_f(l_upper, l_lower, fast_height, b)\n",
    "    return fast_vol[0]\n",
    "\n",
    "x0 = np.array([np.radians(20), np.radians(65), np.radians(115), 3.0])\n",
    "res = minimize(optim_func, x0, method = 'trust-constr', jac = \"2-point\", hess = SR1(), constraints=nonlinear_constraint, options={'verbose': 1}, bounds=bounds)\n",
    "\n"
   ]
  },
  {
   "cell_type": "code",
   "execution_count": 9,
   "metadata": {},
   "outputs": [
    {
     "name": "stdout",
     "output_type": "stream",
     "text": [
      "gamma, beta, phi, S: [ 56.83904346 119.99926732  30.00033132 103.13255388]\n",
      "[0.99202845 2.09438231 0.52360456 1.80000263]\n",
      "[229.99721836734636, 60.07678395514359, 103.18186847464787]\n",
      "439.2079117193173\n"
     ]
    }
   ],
   "source": [
    "print(\"gamma, beta, phi, S: {}\".format(np.degrees(res.x)))\n",
    "print(res.x)\n",
    "\n",
    "print(cons_func(res.x))\n",
    "print(optim_func(res.x))"
   ]
  }
 ],
 "metadata": {
  "interpreter": {
   "hash": "916dbcbb3f70747c44a77c7bcd40155683ae19c65e1c03b4aa3499c5328201f1"
  },
  "kernelspec": {
   "display_name": "Python 3.8.10 64-bit",
   "language": "python",
   "name": "python3"
  },
  "language_info": {
   "codemirror_mode": {
    "name": "ipython",
    "version": 3
   },
   "file_extension": ".py",
   "mimetype": "text/x-python",
   "name": "python",
   "nbconvert_exporter": "python",
   "pygments_lexer": "ipython3",
   "version": "3.10.4"
  },
  "orig_nbformat": 4
 },
 "nbformat": 4,
 "nbformat_minor": 2
}
