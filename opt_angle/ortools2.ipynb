{
 "cells": [
  {
   "cell_type": "code",
   "execution_count": 4,
   "metadata": {},
   "outputs": [
    {
     "ename": "TypeError",
     "evalue": "must be real number, not IntVar",
     "output_type": "error",
     "traceback": [
      "\u001b[0;31m---------------------------------------------------------------------------\u001b[0m",
      "\u001b[0;31mTypeError\u001b[0m                                 Traceback (most recent call last)",
      "\u001b[0;32m/tmp/ipykernel_1033/203049107.py\u001b[0m in \u001b[0;36m<module>\u001b[0;34m\u001b[0m\n\u001b[1;32m     35\u001b[0m \u001b[0;31m# Creates the constraints.\u001b[0m\u001b[0;34m\u001b[0m\u001b[0;34m\u001b[0m\u001b[0;34m\u001b[0m\u001b[0m\n\u001b[1;32m     36\u001b[0m \u001b[0;31m# [START constraints]\u001b[0m\u001b[0;34m\u001b[0m\u001b[0;34m\u001b[0m\u001b[0;34m\u001b[0m\u001b[0m\n\u001b[0;32m---> 37\u001b[0;31m \u001b[0mmodel\u001b[0m\u001b[0;34m.\u001b[0m\u001b[0mAdd\u001b[0m\u001b[0;34m(\u001b[0m\u001b[0msin\u001b[0m\u001b[0;34m(\u001b[0m\u001b[0mx\u001b[0m\u001b[0;34m)\u001b[0m \u001b[0;34m<=\u001b[0m \u001b[0;36m1\u001b[0m\u001b[0;34m)\u001b[0m\u001b[0;34m\u001b[0m\u001b[0;34m\u001b[0m\u001b[0m\n\u001b[0m\u001b[1;32m     38\u001b[0m \u001b[0mmodel\u001b[0m\u001b[0;34m.\u001b[0m\u001b[0mAdd\u001b[0m\u001b[0;34m(\u001b[0m\u001b[0;36m3\u001b[0m \u001b[0;34m*\u001b[0m \u001b[0mx\u001b[0m \u001b[0;34m-\u001b[0m \u001b[0;36m5\u001b[0m \u001b[0;34m*\u001b[0m \u001b[0my\u001b[0m \u001b[0;34m+\u001b[0m \u001b[0;36m7\u001b[0m \u001b[0;34m*\u001b[0m \u001b[0mz\u001b[0m \u001b[0;34m<=\u001b[0m \u001b[0;36m45\u001b[0m\u001b[0;34m)\u001b[0m\u001b[0;34m\u001b[0m\u001b[0;34m\u001b[0m\u001b[0m\n\u001b[1;32m     39\u001b[0m \u001b[0mmodel\u001b[0m\u001b[0;34m.\u001b[0m\u001b[0mAdd\u001b[0m\u001b[0;34m(\u001b[0m\u001b[0;36m5\u001b[0m \u001b[0;34m*\u001b[0m \u001b[0mx\u001b[0m \u001b[0;34m+\u001b[0m \u001b[0;36m2\u001b[0m \u001b[0;34m*\u001b[0m \u001b[0my\u001b[0m \u001b[0;34m-\u001b[0m \u001b[0;36m6\u001b[0m \u001b[0;34m*\u001b[0m \u001b[0mz\u001b[0m \u001b[0;34m<=\u001b[0m \u001b[0;36m37\u001b[0m\u001b[0;34m)\u001b[0m\u001b[0;34m\u001b[0m\u001b[0;34m\u001b[0m\u001b[0m\n",
      "\u001b[0;31mTypeError\u001b[0m: must be real number, not IntVar"
     ]
    }
   ],
   "source": [
    "#!/usr/bin/env python3\n",
    "# Copyright 2010-2021 Google LLC\n",
    "# Licensed under the Apache License, Version 2.0 (the \"License\");\n",
    "# you may not use this file except in compliance with the License.\n",
    "# You may obtain a copy of the License at\n",
    "#\n",
    "#     http://www.apache.org/licenses/LICENSE-2.0\n",
    "#\n",
    "# Unless required by applicable law or agreed to in writing, software\n",
    "# distributed under the License is distributed on an \"AS IS\" BASIS,\n",
    "# WITHOUT WARRANTIES OR CONDITIONS OF ANY KIND, either express or implied.\n",
    "# See the License for the specific language governing permissions and\n",
    "# limitations under the License.\n",
    "# [START program]\n",
    "\"\"\"Simple solve.\"\"\"\n",
    "# [START import]\n",
    "from ortools.sat.python import cp_model\n",
    "# [END import]\n",
    "from math import sin\n",
    "\n",
    "\"\"\"Minimal CP-SAT example to showcase calling the solver.\"\"\"\n",
    "# Creates the model.\n",
    "# [START model]\n",
    "model = cp_model.CpModel()\n",
    "# [END model]\n",
    "\n",
    "# Creates the variables.\n",
    "# [START variables]\n",
    "var_upper_bound = max(50, 45, 37)\n",
    "x = model.NewIntVar(0, var_upper_bound, 'x')\n",
    "y = model.NewIntVar(0, var_upper_bound, 'y')\n",
    "z = model.NewIntVar(0, var_upper_bound, 'z')\n",
    "# [END variables]\n",
    "\n",
    "# Creates the constraints.\n",
    "# [START constraints]\n",
    "model.Add(sin(x) <= 1)\n",
    "model.Add(3 * x - 5 * y + 7 * z <= 45)\n",
    "model.Add(5 * x + 2 * y - 6 * z <= 37)\n",
    "# [END constraints]\n",
    "\n",
    "# [START objective]\n",
    "model.Maximize(2 * x + 2 * y + 3 * z)\n",
    "# [END objective]\n",
    "\n",
    "# Creates a solver and solves the model.\n",
    "# [START solve]\n",
    "solver = cp_model.CpSolver()\n",
    "status = solver.Solve(model)\n",
    "# [END solve]\n",
    "\n",
    "# [START print_solution]\n",
    "if status == cp_model.OPTIMAL or status == cp_model.FEASIBLE:\n",
    "    print(f'Maximum of objective function: {solver.ObjectiveValue()}\\n')\n",
    "    print(f'x = {solver.Value(x)}')\n",
    "    print(f'y = {solver.Value(y)}')\n",
    "    print(f'z = {solver.Value(z)}')\n",
    "else:\n",
    "    print('No solution found.')\n",
    "# [END print_solution]\n",
    "\n",
    "# Statistics.\n",
    "# [START statistics]\n",
    "print('\\nStatistics')\n",
    "print(f'  status   : {solver.StatusName(status)}')\n",
    "print(f'  conflicts: {solver.NumConflicts()}')\n",
    "print(f'  branches : {solver.NumBranches()}')\n",
    "print(f'  wall time: {solver.WallTime()} s')\n",
    "# [END statistics]"
   ]
  }
 ],
 "metadata": {
  "interpreter": {
   "hash": "916dbcbb3f70747c44a77c7bcd40155683ae19c65e1c03b4aa3499c5328201f1"
  },
  "kernelspec": {
   "display_name": "Python 3.8.10 64-bit",
   "language": "python",
   "name": "python3"
  },
  "language_info": {
   "codemirror_mode": {
    "name": "ipython",
    "version": 3
   },
   "file_extension": ".py",
   "mimetype": "text/x-python",
   "name": "python",
   "nbconvert_exporter": "python",
   "pygments_lexer": "ipython3",
   "version": "3.10.4"
  },
  "orig_nbformat": 4
 },
 "nbformat": 4,
 "nbformat_minor": 2
}
